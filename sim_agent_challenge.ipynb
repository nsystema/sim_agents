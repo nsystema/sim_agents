{
  "cells": [
    {
      "cell_type": "code",
      "execution_count": 23,
      "metadata": {},
      "outputs": [
        {
          "data": {
            "text/plain": [
              "'!conda install -c conda-forge openexr-python -y\\n!pip install waymo-open-dataset-tf-2-11-0==1.5.2  --no-cache-dir \\n!pip install --upgrade google-cloud-storage'"
            ]
          },
          "execution_count": 23,
          "metadata": {},
          "output_type": "execute_result"
        }
      ],
      "source": [
        "\"\"\"!conda install -c conda-forge openexr-python -y\n",
        "!pip install waymo-open-dataset-tf-2-11-0==1.5.2  --no-cache-dir \n",
        "!pip install --upgrade google-cloud-storage\"\"\""
      ]
    },
    {
      "cell_type": "code",
      "execution_count": 49,
      "metadata": {
        "colab": {
          "base_uri": "https://localhost:8080/",
          "height": 1000
        },
        "id": "_G1K_QmTl5vQ",
        "outputId": "198789a1-d9e4-47d3-e463-ca4fcfb7a641"
      },
      "outputs": [],
      "source": [
        "# Imports\n",
        "import os\n",
        "import tarfile\n",
        "import numpy as np\n",
        "import tensorflow as tf\n",
        "import matplotlib.pyplot as plt\n",
        "import tqdm\n",
        "import pickle\n",
        "\n",
        "from waymo_open_dataset.wdl_limited.sim_agents_metrics import metric_features\n",
        "from waymo_open_dataset.wdl_limited.sim_agents_metrics import metrics\n",
        "\n",
        "from waymo_open_dataset.protos import scenario_pb2\n",
        "from waymo_open_dataset.protos import sim_agents_metrics_pb2\n",
        "from waymo_open_dataset.protos import sim_agents_submission_pb2\n",
        "from google.protobuf import text_format\n",
        "\n",
        "from waymo_open_dataset.utils.sim_agents import submission_specs\n",
        "from waymo_open_dataset.utils.sim_agents import test_utils as sim_agents_test_utils\n",
        "from waymo_open_dataset.utils.sim_agents import visualizations\n",
        "from waymo_open_dataset.utils import trajectory_utils\n",
        "\n",
        "# Set matplotlib to jshtml so animations work with colab.\n",
        "from matplotlib import rc\n",
        "rc('animation', html='jshtml')\n",
        "\n",
        "# deactivating the warnings\n",
        "import warnings\n",
        "warnings.filterwarnings('ignore')\n",
        "\n",
        "from download import download_from_gcs\n",
        "from prepare_dataset import Prepare_train_dataset, Prepare_validation_dataset, Prepare_test_dataset\n",
        "from data_preprocess import process_waymo_data_with_scenario_proto\n",
        "from Mydataloader import create_dataloader\n"
      ]
    },
    {
      "attachments": {},
      "cell_type": "markdown",
      "metadata": {
        "id": "x_oklHSal5vR"
      },
      "source": [
        "# Downloader"
      ]
    },
    {
      "cell_type": "code",
      "execution_count": 25,
      "metadata": {
        "colab": {
          "base_uri": "https://localhost:8080/"
        },
        "id": "Z9ObwY0Rl5vS",
        "outputId": "5dadc54c-23a1-40b4-f214-34c3d1338676"
      },
      "outputs": [
        {
          "name": "stdout",
          "output_type": "stream",
          "text": [
            "validation.tfrecord-00000-of-00150 already exists in waymo_open_dataset_/validation/validation.tfrecord-00000-of-00150\n",
            "training.tfrecord-00000-of-01000 already exists in waymo_open_dataset_/training/training.tfrecord-00000-of-01000\n",
            "testing.tfrecord-00000-of-00150 already exists in waymo_open_dataset_/testing/testing.tfrecord-00000-of-00150\n"
          ]
        }
      ],
      "source": [
        "# Download samples\n",
        "download_from_gcs('uncompressed/scenario/validation/validation.tfrecord-00000-of-00150')\n",
        "download_from_gcs('uncompressed/scenario/training/training.tfrecord-00000-of-01000')\n",
        "download_from_gcs('uncompressed/scenario/testing/testing.tfrecord-00000-of-00150')"
      ]
    },
    {
      "attachments": {},
      "cell_type": "markdown",
      "metadata": {
        "id": "qMTFcOA0l5vT"
      },
      "source": [
        "# Preprocess"
      ]
    },
    {
      "cell_type": "code",
      "execution_count": 26,
      "metadata": {},
      "outputs": [
        {
          "name": "stdout",
          "output_type": "stream",
          "text": [
            "2023-05-28 12:16:55.288877: I tensorflow/core/platform/cpu_feature_guard.cc:193] This TensorFlow binary is optimized with oneAPI Deep Neural Network Library (oneDNN) to use the following CPU instructions in performance-critical operations:  AVX2 AVX512F FMA\n",
            "To enable them in other operations, rebuild TensorFlow with the appropriate compiler flags.\n",
            "2023-05-28 12:16:55.588421: W tensorflow/compiler/xla/stream_executor/platform/default/dso_loader.cc:64] Could not load dynamic library 'libcudart.so.11.0'; dlerror: libcudart.so.11.0: cannot open shared object file: No such file or directory\n",
            "2023-05-28 12:16:55.588462: I tensorflow/compiler/xla/stream_executor/cuda/cudart_stub.cc:29] Ignore above cudart dlerror if you do not have a GPU set up on your machine.\n",
            "2023-05-28 12:16:59.106980: W tensorflow/compiler/xla/stream_executor/platform/default/dso_loader.cc:64] Could not load dynamic library 'libnvinfer.so.7'; dlerror: libnvinfer.so.7: cannot open shared object file: No such file or directory\n",
            "2023-05-28 12:16:59.107093: W tensorflow/compiler/xla/stream_executor/platform/default/dso_loader.cc:64] Could not load dynamic library 'libnvinfer_plugin.so.7'; dlerror: libnvinfer_plugin.so.7: cannot open shared object file: No such file or directory\n",
            "2023-05-28 12:16:59.107114: W tensorflow/compiler/tf2tensorrt/utils/py_utils.cc:38] TF-TRT Warning: Cannot dlopen some TensorRT libraries. If you would like to use Nvidia GPU with TensorRT, please make sure the missing libraries mentioned above are installed properly.\n",
            "  0%|                                                     | 0/1 [00:00<?, ?it/s]2023-05-28 12:17:03.268069: W tensorflow/compiler/xla/stream_executor/platform/default/dso_loader.cc:64] Could not load dynamic library 'libcuda.so.1'; dlerror: libcuda.so.1: cannot open shared object file: No such file or directory\n",
            "2023-05-28 12:17:03.268146: W tensorflow/compiler/xla/stream_executor/cuda/cuda_driver.cc:265] failed call to cuInit: UNKNOWN ERROR (303)\n",
            "2023-05-28 12:17:03.268197: I tensorflow/compiler/xla/stream_executor/cuda/cuda_diagnostics.cc:156] kernel driver does not appear to be running on this host (codespaces-a6b224): /proc/driver/nvidia/version does not exist\n",
            "2023-05-28 12:17:03.380180: I tensorflow/core/platform/cpu_feature_guard.cc:193] This TensorFlow binary is optimized with oneAPI Deep Neural Network Library (oneDNN) to use the following CPU instructions in performance-critical operations:  AVX2 AVX512F FMA\n",
            "To enable them in other operations, rebuild TensorFlow with the appropriate compiler flags.\n",
            "100%|█████████████████████████████████████████████| 1/1 [01:11<00:00, 71.36s/it]\n",
            "----------------Waymo info train file is saved to scenarios/processed_scenarios_training_infos.pkl----------------\n",
            "  0%|                                                     | 0/1 [00:00<?, ?it/s]2023-05-28 12:18:14.852295: W tensorflow/compiler/xla/stream_executor/platform/default/dso_loader.cc:64] Could not load dynamic library 'libcuda.so.1'; dlerror: libcuda.so.1: cannot open shared object file: No such file or directory\n",
            "2023-05-28 12:18:14.852377: W tensorflow/compiler/xla/stream_executor/cuda/cuda_driver.cc:265] failed call to cuInit: UNKNOWN ERROR (303)\n",
            "2023-05-28 12:18:14.852424: I tensorflow/compiler/xla/stream_executor/cuda/cuda_diagnostics.cc:156] kernel driver does not appear to be running on this host (codespaces-a6b224): /proc/driver/nvidia/version does not exist\n",
            "2023-05-28 12:18:14.853355: I tensorflow/core/platform/cpu_feature_guard.cc:193] This TensorFlow binary is optimized with oneAPI Deep Neural Network Library (oneDNN) to use the following CPU instructions in performance-critical operations:  AVX2 AVX512F FMA\n",
            "To enable them in other operations, rebuild TensorFlow with the appropriate compiler flags.\n",
            "100%|█████████████████████████████████████████████| 1/1 [00:39<00:00, 39.84s/it]\n",
            "----------------Waymo info val file is saved to scenarios/processed_scenarios_val_infos.pkl----------------\n"
          ]
        }
      ],
      "source": [
        "!python data_preprocess.py"
      ]
    },
    {
      "attachments": {},
      "cell_type": "markdown",
      "metadata": {},
      "source": [
        "## Trajectory data "
      ]
    },
    {
      "cell_type": "code",
      "execution_count": 31,
      "metadata": {},
      "outputs": [
        {
          "name": "stdout",
          "output_type": "stream",
          "text": [
            "The shape of the original trajectories is:  (105, 91, 10)\n",
            "The shape of the tracks to predict until current time step is:  (4, 11, 10)\n",
            "The shape of the tracks to predict after current time step is:  (4, 80, 10)\n",
            "The shape of the track of adv until current time step is:  (11, 10)\n",
            "The shape of the track of adv after current time step is:  (80, 10)\n",
            "The shape of the track of other agents until current time step is:  (104, 11, 10)\n",
            "The shape of the track of other agents after current time step is:  (104, 80, 10)\n"
          ]
        }
      ],
      "source": [
        "# load scenarios/processed_scenarios_training/sample_1a8cc570d620bd31.pkl\n",
        "pickle_file = 'scenarios/processed_scenarios_training/sample_1a8cc570d620bd31.pkl'\n",
        "processed = pickle.load(open(pickle_file, 'rb'))\n",
        "\n",
        "print('The shape of the original trajectories is: ', processed['track_infos']['trajs'].shape)\n",
        "print('The shape of the tracks to predict until current time step is: ', processed['track_infos']['tracks_to_predict_until_current'].shape)\n",
        "print('The shape of the tracks to predict after current time step is: ', processed['track_infos']['tracks_to_predict_future'].shape)\n",
        "print('The shape of the track of adv until current time step is: ', processed['track_infos']['track_of_adv_until_current'].shape)\n",
        "print('The shape of the track of adv after current time step is: ', processed['track_infos']['track_of_adv_future'].shape)\n",
        "print('The shape of the track of other agents until current time step is: ', processed['track_infos']['tracks_of_other_agents_until_current'].shape)\n",
        "print('The shape of the track of other agents after current time step is: ', processed['track_infos']['tracks_of_other_agents_future'].shape)"
      ]
    },
    {
      "attachments": {},
      "cell_type": "markdown",
      "metadata": {},
      "source": [
        "## Map data"
      ]
    },
    {
      "cell_type": "code",
      "execution_count": 39,
      "metadata": {},
      "outputs": [
        {
          "name": "stdout",
          "output_type": "stream",
          "text": [
            "The (shape, type) of the map info lane is:  ((751,), <class 'list'>)\n",
            "The map info inside each lane element are:  dict_keys(['id', 'speed_limit_mph', 'type', 'interpolating', 'entry_lanes', 'exit_lanes', 'left_boundary', 'right_boundary', 'polyline_index'])\n",
            "The (shape, type) of the map info road_line is:  ((77,), <class 'list'>)\n",
            "The map info inside each road_line element are:  dict_keys(['id', 'type', 'polyline_index'])\n",
            "The (shape, type) of the map info road_edge is:  ((79,), <class 'list'>)\n",
            "The map info inside each road_edge element are:  dict_keys(['id', 'type', 'polyline_index'])\n",
            "The (shape, type) of the map info stop_sign is:  ((1,), <class 'list'>)\n",
            "The map info inside each stop_sign element are:  dict_keys(['id', 'lane_ids', 'position', 'polyline_index'])\n",
            "The (shape, type) of the map info crosswalk is:  ((12,), <class 'list'>)\n",
            "The map info inside each crosswalk element are:  dict_keys(['id', 'polyline_index'])\n",
            "The (shape, type) of the map info speed_bump is:  ((18,), <class 'list'>)\n",
            "The map info inside each speed_bump element are:  dict_keys(['id', 'polyline_index'])\n",
            "The (shape, type) of the map info unknown is:  ((19,), <class 'list'>)\n",
            "The map info inside each unknown element are:  dict_keys(['id', 'polyline_index'])\n",
            "The (shape, type) of the map info all_polylines is:  ((45047, 7), <class 'numpy.ndarray'>)\n"
          ]
        }
      ],
      "source": [
        "for key in processed['map_infos'].keys():\n",
        "    print('The (shape, type) of the map info {} is: '.format(key), (np.array(processed['map_infos'][key]).shape, type(processed['map_infos'][key])))\n",
        "    if key != 'all_polylines':\n",
        "        print('The map info inside each {} element are: '.format(key), processed['map_infos'][key][0].keys())"
      ]
    },
    {
      "attachments": {},
      "cell_type": "markdown",
      "metadata": {},
      "source": [
        "# Data loader"
      ]
    },
    {
      "cell_type": "code",
      "execution_count": 52,
      "metadata": {},
      "outputs": [
        {
          "name": "stdout",
          "output_type": "stream",
          "text": [
            "----------------- batch 0 -----------------\n",
            "----------------- item 0 -----------------\n",
            "The shape of the original trajectories is: torch.Size([19, 91, 10])\n",
            "The shape of the tracks to predict until current time step is: torch.Size([2, 11, 10])\n",
            "The shape of the tracks to predict after current time step is: torch.Size([2, 80, 10])\n",
            "The shape of the track of adv until current time step is: torch.Size([11, 10])\n",
            "The shape of the track of adv after current time step is: torch.Size([80, 10])\n",
            "The shape of the track of other agents until current time step is: torch.Size([18, 11, 10])\n",
            "The shape of the track of other agents after current time step is: torch.Size([18, 80, 10])\n",
            "\n",
            "----------------- item 1 -----------------\n",
            "The shape of the original trajectories is: torch.Size([377, 91, 10])\n",
            "The shape of the tracks to predict until current time step is: torch.Size([4, 11, 10])\n",
            "The shape of the tracks to predict after current time step is: torch.Size([4, 80, 10])\n",
            "The shape of the track of adv until current time step is: torch.Size([11, 10])\n",
            "The shape of the track of adv after current time step is: torch.Size([80, 10])\n",
            "The shape of the track of other agents until current time step is: torch.Size([376, 11, 10])\n",
            "The shape of the track of other agents after current time step is: torch.Size([376, 80, 10])\n",
            "\n",
            "----------------- item 2 -----------------\n",
            "The shape of the original trajectories is: torch.Size([128, 91, 10])\n",
            "The shape of the tracks to predict until current time step is: torch.Size([4, 11, 10])\n",
            "The shape of the tracks to predict after current time step is: torch.Size([4, 80, 10])\n",
            "The shape of the track of adv until current time step is: torch.Size([11, 10])\n",
            "The shape of the track of adv after current time step is: torch.Size([80, 10])\n",
            "The shape of the track of other agents until current time step is: torch.Size([127, 11, 10])\n",
            "The shape of the track of other agents after current time step is: torch.Size([127, 80, 10])\n",
            "\n",
            "----------------- item 3 -----------------\n",
            "The shape of the original trajectories is: torch.Size([41, 91, 10])\n",
            "The shape of the tracks to predict until current time step is: torch.Size([3, 11, 10])\n",
            "The shape of the tracks to predict after current time step is: torch.Size([3, 80, 10])\n",
            "The shape of the track of adv until current time step is: torch.Size([11, 10])\n",
            "The shape of the track of adv after current time step is: torch.Size([80, 10])\n",
            "The shape of the track of other agents until current time step is: torch.Size([40, 11, 10])\n",
            "The shape of the track of other agents after current time step is: torch.Size([40, 80, 10])\n",
            "\n",
            "----------------- batch 1 -----------------\n",
            "----------------- item 0 -----------------\n",
            "The shape of the original trajectories is: torch.Size([92, 91, 10])\n",
            "The shape of the tracks to predict until current time step is: torch.Size([3, 11, 10])\n",
            "The shape of the tracks to predict after current time step is: torch.Size([3, 80, 10])\n",
            "The shape of the track of adv until current time step is: torch.Size([11, 10])\n",
            "The shape of the track of adv after current time step is: torch.Size([80, 10])\n",
            "The shape of the track of other agents until current time step is: torch.Size([91, 11, 10])\n",
            "The shape of the track of other agents after current time step is: torch.Size([91, 80, 10])\n",
            "\n",
            "----------------- item 1 -----------------\n",
            "The shape of the original trajectories is: torch.Size([89, 91, 10])\n",
            "The shape of the tracks to predict until current time step is: torch.Size([8, 11, 10])\n",
            "The shape of the tracks to predict after current time step is: torch.Size([8, 80, 10])\n",
            "The shape of the track of adv until current time step is: torch.Size([11, 10])\n",
            "The shape of the track of adv after current time step is: torch.Size([80, 10])\n",
            "The shape of the track of other agents until current time step is: torch.Size([88, 11, 10])\n",
            "The shape of the track of other agents after current time step is: torch.Size([88, 80, 10])\n",
            "\n",
            "----------------- item 2 -----------------\n",
            "The shape of the original trajectories is: torch.Size([24, 91, 10])\n",
            "The shape of the tracks to predict until current time step is: torch.Size([6, 11, 10])\n",
            "The shape of the tracks to predict after current time step is: torch.Size([6, 80, 10])\n",
            "The shape of the track of adv until current time step is: torch.Size([11, 10])\n",
            "The shape of the track of adv after current time step is: torch.Size([80, 10])\n",
            "The shape of the track of other agents until current time step is: torch.Size([23, 11, 10])\n",
            "The shape of the track of other agents after current time step is: torch.Size([23, 80, 10])\n",
            "\n",
            "----------------- item 3 -----------------\n",
            "The shape of the original trajectories is: torch.Size([26, 91, 10])\n",
            "The shape of the tracks to predict until current time step is: torch.Size([2, 11, 10])\n",
            "The shape of the tracks to predict after current time step is: torch.Size([2, 80, 10])\n",
            "The shape of the track of adv until current time step is: torch.Size([11, 10])\n",
            "The shape of the track of adv after current time step is: torch.Size([80, 10])\n",
            "The shape of the track of other agents until current time step is: torch.Size([25, 11, 10])\n",
            "The shape of the track of other agents after current time step is: torch.Size([25, 80, 10])\n",
            "\n",
            "----------------- batch 2 -----------------\n",
            "----------------- item 0 -----------------\n",
            "The shape of the original trajectories is: torch.Size([49, 91, 10])\n",
            "The shape of the tracks to predict until current time step is: torch.Size([8, 11, 10])\n",
            "The shape of the tracks to predict after current time step is: torch.Size([8, 80, 10])\n",
            "The shape of the track of adv until current time step is: torch.Size([11, 10])\n",
            "The shape of the track of adv after current time step is: torch.Size([80, 10])\n",
            "The shape of the track of other agents until current time step is: torch.Size([48, 11, 10])\n",
            "The shape of the track of other agents after current time step is: torch.Size([48, 80, 10])\n",
            "\n",
            "----------------- item 1 -----------------\n",
            "The shape of the original trajectories is: torch.Size([48, 91, 10])\n",
            "The shape of the tracks to predict until current time step is: torch.Size([8, 11, 10])\n",
            "The shape of the tracks to predict after current time step is: torch.Size([8, 80, 10])\n",
            "The shape of the track of adv until current time step is: torch.Size([11, 10])\n",
            "The shape of the track of adv after current time step is: torch.Size([80, 10])\n",
            "The shape of the track of other agents until current time step is: torch.Size([47, 11, 10])\n",
            "The shape of the track of other agents after current time step is: torch.Size([47, 80, 10])\n",
            "\n",
            "----------------- item 2 -----------------\n",
            "The shape of the original trajectories is: torch.Size([34, 91, 10])\n",
            "The shape of the tracks to predict until current time step is: torch.Size([6, 11, 10])\n",
            "The shape of the tracks to predict after current time step is: torch.Size([6, 80, 10])\n",
            "The shape of the track of adv until current time step is: torch.Size([11, 10])\n",
            "The shape of the track of adv after current time step is: torch.Size([80, 10])\n",
            "The shape of the track of other agents until current time step is: torch.Size([33, 11, 10])\n",
            "The shape of the track of other agents after current time step is: torch.Size([33, 80, 10])\n",
            "\n",
            "----------------- item 3 -----------------\n",
            "The shape of the original trajectories is: torch.Size([55, 91, 10])\n",
            "The shape of the tracks to predict until current time step is: torch.Size([5, 11, 10])\n",
            "The shape of the tracks to predict after current time step is: torch.Size([5, 80, 10])\n",
            "The shape of the track of adv until current time step is: torch.Size([11, 10])\n",
            "The shape of the track of adv after current time step is: torch.Size([80, 10])\n",
            "The shape of the track of other agents until current time step is: torch.Size([54, 11, 10])\n",
            "The shape of the track of other agents after current time step is: torch.Size([54, 80, 10])\n",
            "\n",
            "----------------- batch 3 -----------------\n",
            "----------------- item 0 -----------------\n",
            "The shape of the original trajectories is: torch.Size([229, 91, 10])\n",
            "The shape of the tracks to predict until current time step is: torch.Size([4, 11, 10])\n",
            "The shape of the tracks to predict after current time step is: torch.Size([4, 80, 10])\n",
            "The shape of the track of adv until current time step is: torch.Size([11, 10])\n",
            "The shape of the track of adv after current time step is: torch.Size([80, 10])\n",
            "The shape of the track of other agents until current time step is: torch.Size([228, 11, 10])\n",
            "The shape of the track of other agents after current time step is: torch.Size([228, 80, 10])\n",
            "\n",
            "----------------- item 1 -----------------\n",
            "The shape of the original trajectories is: torch.Size([64, 91, 10])\n",
            "The shape of the tracks to predict until current time step is: torch.Size([2, 11, 10])\n",
            "The shape of the tracks to predict after current time step is: torch.Size([2, 80, 10])\n",
            "The shape of the track of adv until current time step is: torch.Size([11, 10])\n",
            "The shape of the track of adv after current time step is: torch.Size([80, 10])\n",
            "The shape of the track of other agents until current time step is: torch.Size([63, 11, 10])\n",
            "The shape of the track of other agents after current time step is: torch.Size([63, 80, 10])\n",
            "\n",
            "----------------- item 2 -----------------\n",
            "The shape of the original trajectories is: torch.Size([174, 91, 10])\n",
            "The shape of the tracks to predict until current time step is: torch.Size([3, 11, 10])\n",
            "The shape of the tracks to predict after current time step is: torch.Size([3, 80, 10])\n",
            "The shape of the track of adv until current time step is: torch.Size([11, 10])\n",
            "The shape of the track of adv after current time step is: torch.Size([80, 10])\n",
            "The shape of the track of other agents until current time step is: torch.Size([173, 11, 10])\n",
            "The shape of the track of other agents after current time step is: torch.Size([173, 80, 10])\n",
            "\n",
            "----------------- item 3 -----------------\n",
            "The shape of the original trajectories is: torch.Size([23, 91, 10])\n",
            "The shape of the tracks to predict until current time step is: torch.Size([4, 11, 10])\n",
            "The shape of the tracks to predict after current time step is: torch.Size([4, 80, 10])\n",
            "The shape of the track of adv until current time step is: torch.Size([11, 10])\n",
            "The shape of the track of adv after current time step is: torch.Size([80, 10])\n",
            "The shape of the track of other agents until current time step is: torch.Size([22, 11, 10])\n",
            "The shape of the track of other agents after current time step is: torch.Size([22, 80, 10])\n",
            "\n",
            "----------------- batch 4 -----------------\n",
            "----------------- item 0 -----------------\n",
            "The shape of the original trajectories is: torch.Size([16, 91, 10])\n",
            "The shape of the tracks to predict until current time step is: torch.Size([4, 11, 10])\n",
            "The shape of the tracks to predict after current time step is: torch.Size([4, 80, 10])\n",
            "The shape of the track of adv until current time step is: torch.Size([11, 10])\n",
            "The shape of the track of adv after current time step is: torch.Size([80, 10])\n",
            "The shape of the track of other agents until current time step is: torch.Size([15, 11, 10])\n",
            "The shape of the track of other agents after current time step is: torch.Size([15, 80, 10])\n",
            "\n",
            "----------------- item 1 -----------------\n",
            "The shape of the original trajectories is: torch.Size([74, 91, 10])\n",
            "The shape of the tracks to predict until current time step is: torch.Size([3, 11, 10])\n",
            "The shape of the tracks to predict after current time step is: torch.Size([3, 80, 10])\n",
            "The shape of the track of adv until current time step is: torch.Size([11, 10])\n",
            "The shape of the track of adv after current time step is: torch.Size([80, 10])\n",
            "The shape of the track of other agents until current time step is: torch.Size([73, 11, 10])\n",
            "The shape of the track of other agents after current time step is: torch.Size([73, 80, 10])\n",
            "\n",
            "----------------- item 2 -----------------\n",
            "The shape of the original trajectories is: torch.Size([175, 91, 10])\n",
            "The shape of the tracks to predict until current time step is: torch.Size([7, 11, 10])\n",
            "The shape of the tracks to predict after current time step is: torch.Size([7, 80, 10])\n",
            "The shape of the track of adv until current time step is: torch.Size([11, 10])\n",
            "The shape of the track of adv after current time step is: torch.Size([80, 10])\n",
            "The shape of the track of other agents until current time step is: torch.Size([174, 11, 10])\n",
            "The shape of the track of other agents after current time step is: torch.Size([174, 80, 10])\n",
            "\n",
            "----------------- item 3 -----------------\n",
            "The shape of the original trajectories is: torch.Size([93, 91, 10])\n",
            "The shape of the tracks to predict until current time step is: torch.Size([8, 11, 10])\n",
            "The shape of the tracks to predict after current time step is: torch.Size([8, 80, 10])\n",
            "The shape of the track of adv until current time step is: torch.Size([11, 10])\n",
            "The shape of the track of adv after current time step is: torch.Size([80, 10])\n",
            "The shape of the track of other agents until current time step is: torch.Size([92, 11, 10])\n",
            "The shape of the track of other agents after current time step is: torch.Size([92, 80, 10])\n",
            "\n"
          ]
        }
      ],
      "source": [
        "# Example usage\n",
        "train_directory = 'scenarios/processed_scenarios_training'\n",
        "validation_directory = 'scenarios/processed_scenarios_validation'\n",
        "batch_size = 4\n",
        "train_dataloader = create_dataloader(train_directory, batch_size)\n",
        "validation_dataloader = create_dataloader(validation_directory, batch_size)\n",
        "\n",
        "\n",
        "# Iterate over the dataloader\n",
        "for i, batch in enumerate(train_dataloader):\n",
        "    print('----------------- batch {} -----------------'.format(i))\n",
        "    for j, item in enumerate(batch):\n",
        "        trajectories, tracks_until_current, tracks_future, adv_until_current, adv_future, other_agents_until_current, other_agents_future = item\n",
        "        print('----------------- item {} -----------------'.format(j))\n",
        "        print('The shape of the original trajectories is:', trajectories.shape)\n",
        "        print('The shape of the tracks to predict until current time step is:', tracks_until_current.shape)\n",
        "        print('The shape of the tracks to predict after current time step is:', tracks_future.shape)\n",
        "        print('The shape of the track of adv until current time step is:', adv_until_current.shape)\n",
        "        print('The shape of the track of adv after current time step is:', adv_future.shape)\n",
        "        print('The shape of the track of other agents until current time step is:', other_agents_until_current.shape)\n",
        "        print('The shape of the track of other agents after current time step is:', other_agents_future.shape)\n",
        "        print()\n",
        "    if i > 3:\n",
        "        break  \n"
      ]
    },
    {
      "cell_type": "code",
      "execution_count": null,
      "metadata": {},
      "outputs": [],
      "source": []
    }
  ],
  "metadata": {
    "colab": {
      "provenance": []
    },
    "gpuClass": "standard",
    "kernelspec": {
      "display_name": "Python 3",
      "name": "python3"
    },
    "language_info": {
      "codemirror_mode": {
        "name": "ipython",
        "version": 3
      },
      "file_extension": ".py",
      "mimetype": "text/x-python",
      "name": "python",
      "nbconvert_exporter": "python",
      "pygments_lexer": "ipython3",
      "version": "3.10.11"
    },
    "orig_nbformat": 4
  },
  "nbformat": 4,
  "nbformat_minor": 0
}
