{
  "cells": [
    {
      "cell_type": "code",
      "execution_count": 1,
      "metadata": {},
      "outputs": [
        {
          "data": {
            "text/plain": [
              "'!conda install -c conda-forge openexr-python -y\\n!pip install waymo-open-dataset-tf-2-11-0==1.5.2  --no-cache-dir \\n!pip install --upgrade google-cloud-storage'"
            ]
          },
          "execution_count": 1,
          "metadata": {},
          "output_type": "execute_result"
        }
      ],
      "source": [
        "\"\"\"!conda install -c conda-forge openexr-python -y\n",
        "!pip install waymo-open-dataset-tf-2-11-0==1.5.2  --no-cache-dir \n",
        "!pip install --upgrade google-cloud-storage\"\"\""
      ]
    },
    {
      "cell_type": "code",
      "execution_count": 38,
      "metadata": {
        "colab": {
          "base_uri": "https://localhost:8080/",
          "height": 1000
        },
        "id": "_G1K_QmTl5vQ",
        "outputId": "198789a1-d9e4-47d3-e463-ca4fcfb7a641"
      },
      "outputs": [],
      "source": [
        "# Imports\n",
        "import os\n",
        "import tarfile\n",
        "import numpy as np\n",
        "import tensorflow as tf\n",
        "import matplotlib.pyplot as plt\n",
        "import tqdm\n",
        "\n",
        "from waymo_open_dataset.wdl_limited.sim_agents_metrics import metric_features\n",
        "from waymo_open_dataset.wdl_limited.sim_agents_metrics import metrics\n",
        "\n",
        "from waymo_open_dataset.protos import scenario_pb2\n",
        "from waymo_open_dataset.protos import sim_agents_metrics_pb2\n",
        "from waymo_open_dataset.protos import sim_agents_submission_pb2\n",
        "from google.protobuf import text_format\n",
        "\n",
        "from waymo_open_dataset.utils.sim_agents import submission_specs\n",
        "from waymo_open_dataset.utils.sim_agents import test_utils as sim_agents_test_utils\n",
        "from waymo_open_dataset.utils.sim_agents import visualizations\n",
        "from waymo_open_dataset.utils import trajectory_utils\n",
        "\n",
        "# Set matplotlib to jshtml so animations work with colab.\n",
        "from matplotlib import rc\n",
        "rc('animation', html='jshtml')\n",
        "\n",
        "# deactivating the warnings\n",
        "import warnings\n",
        "warnings.filterwarnings('ignore')\n",
        "\n",
        "from download import download_from_gcs\n",
        "from prepare_dataset import Prepare_train_dataset, Prepare_validation_dataset, Prepare_test_dataset\n",
        "from data_preprocess import process_waymo_data_with_scenario_proto\n"
      ]
    },
    {
      "attachments": {},
      "cell_type": "markdown",
      "metadata": {
        "id": "x_oklHSal5vR"
      },
      "source": [
        "# Downloader"
      ]
    },
    {
      "cell_type": "code",
      "execution_count": 3,
      "metadata": {
        "colab": {
          "base_uri": "https://localhost:8080/"
        },
        "id": "Z9ObwY0Rl5vS",
        "outputId": "5dadc54c-23a1-40b4-f214-34c3d1338676"
      },
      "outputs": [
        {
          "name": "stdout",
          "output_type": "stream",
          "text": [
            "validation.tfrecord-00000-of-00150 already exists in waymo_open_dataset_/validation.tfrecord-00000-of-00150\n",
            "training.tfrecord-00000-of-01000 already exists in waymo_open_dataset_/training.tfrecord-00000-of-01000\n",
            "testing.tfrecord-00000-of-00150 already exists in waymo_open_dataset_/testing.tfrecord-00000-of-00150\n"
          ]
        }
      ],
      "source": [
        "# Download samples\n",
        "download_from_gcs('uncompressed/scenario/validation/validation.tfrecord-00000-of-00150')\n",
        "download_from_gcs('uncompressed/scenario/training/training.tfrecord-00000-of-01000')\n",
        "download_from_gcs('uncompressed/scenario/testing/testing.tfrecord-00000-of-00150')"
      ]
    },
    {
      "attachments": {},
      "cell_type": "markdown",
      "metadata": {
        "id": "qMTFcOA0l5vT"
      },
      "source": [
        "# Loader"
      ]
    },
    {
      "cell_type": "code",
      "execution_count": 9,
      "metadata": {},
      "outputs": [
        {
          "data": {
            "text/plain": [
              "'# scenario exemple\\ndataset = Prepare_train_dataset()\\n# iterate over the dataset\\nfor data in dataset:\\n    scenario = scenario_pb2.Scenario()\\n    scenario.ParseFromString(data.numpy())\\n# describe the scenario\\nprint(scenario.description)'"
            ]
          },
          "execution_count": 9,
          "metadata": {},
          "output_type": "execute_result"
        }
      ],
      "source": [
        "\"\"\"# scenario exemple\n",
        "dataset = Prepare_train_dataset()\n",
        "# iterate over the dataset\n",
        "for data in dataset:\n",
        "    scenario = scenario_pb2.Scenario()\n",
        "    scenario.ParseFromString(data.numpy())\n",
        "# describe the scenario\n",
        "print(scenario.description)\"\"\"\n",
        "\n",
        "    \n",
        "    \n"
      ]
    },
    {
      "cell_type": "code",
      "execution_count": 39,
      "metadata": {},
      "outputs": [
        {
          "data": {
            "text/plain": [
              "\"logged_trajectories =trajectory_utils.ObjectTrajectories.from_scenario(scenario)\\nprint(f'Original shape of tensors inside trajectories: {logged_trajectories.valid.shape} (n_objects, n_steps)')\\nsim_agents_ids = tf.convert_to_tensor(submission_specs.get_sim_agent_ids(scenario))\\nlogged_trajectories = logged_trajectories.gather_objects_by_id(sim_agents_ids)\\nprint(f'Shape of tensors inside trajectories after removing objects that should not be simulated: {logged_trajectories.valid.shape} (n_objects, n_steps)')\\ncurrent_trajectories = logged_trajectories.slice_time(\\n      start_index=0, end_index=submission_specs.CURRENT_TIME_INDEX + 1)\\nprint(f'Modified shape of tensors after removing future steps: {current_trajectories.valid.shape} (n_objects, n_steps)')\\nfuture_trajectories = logged_trajectories.slice_time(\\n    start_index=submission_specs.CURRENT_TIME_INDEX + 1, end_index=None)\\nprint(f'Modified shape of tensors inside future trajectories: {future_trajectories.valid.shape} (n_objects, n_steps)')\\n\\nprint(f'Are all agents valid: {tf.reduce_all(current_trajectories.valid[:, -1]).numpy()}')\\n\""
            ]
          },
          "execution_count": 39,
          "metadata": {},
          "output_type": "execute_result"
        }
      ],
      "source": [
        "\"\"\"# scenario exemple\n",
        "dataset = Prepare_train_dataset()\n",
        "dataset_iterator = dataset.as_numpy_iterator()\n",
        "bytes_example = next(dataset_iterator)\n",
        "scenario = scenario_pb2.Scenario.FromString(bytes_example)\n",
        "print(f'Checking type: {type(scenario)}')\n",
        "print(f'Loaded scenario with ID: {scenario.scenario_id}')\n",
        "\n",
        "logged_trajectories =trajectory_utils.ObjectTrajectories.from_scenario(scenario)\n",
        "print(f'Original shape of tensors inside trajectories: {logged_trajectories.valid.shape} (n_objects, n_steps)')\n",
        "sim_agents_ids = tf.convert_to_tensor(submission_specs.get_sim_agent_ids(scenario))\n",
        "logged_trajectories = logged_trajectories.gather_objects_by_id(sim_agents_ids)\n",
        "print(f'Shape of tensors inside trajectories after removing objects that should not be simulated: {logged_trajectories.valid.shape} (n_objects, n_steps)')\n",
        "current_trajectories = logged_trajectories.slice_time(\n",
        "      start_index=0, end_index=submission_specs.CURRENT_TIME_INDEX + 1)\n",
        "print(f'Modified shape of tensors after removing future steps: {current_trajectories.valid.shape} (n_objects, n_steps)')\n",
        "future_trajectories = logged_trajectories.slice_time(\n",
        "    start_index=submission_specs.CURRENT_TIME_INDEX + 1, end_index=None)\n",
        "print(f'Modified shape of tensors inside future trajectories: {future_trajectories.valid.shape} (n_objects, n_steps)')\n",
        "\n",
        "print(f'Are all agents valid: {tf.reduce_all(current_trajectories.valid[:, -1]).numpy()}')\n",
        "\"\"\""
      ]
    },
    {
      "cell_type": "code",
      "execution_count": 5,
      "metadata": {},
      "outputs": [
        {
          "data": {
            "text/plain": [
              "\"data_file = 'waymo_open_dataset_/training.tfrecord-00000-of-01000'\\noutput_path = 'scenarios/training'\\n\\nprocessed = process_waymo_data_with_scenario_proto(data_file, output_path)\""
            ]
          },
          "execution_count": 5,
          "metadata": {},
          "output_type": "execute_result"
        }
      ],
      "source": [
        "data_file = 'waymo_open_dataset_/training.tfrecord-00000-of-01000'\n",
        "output_path = 'scenarios/training'\n",
        "\n",
        "processed = process_waymo_data_with_scenario_proto(data_file, output_path)\"\"\""
      ]
    }
  ],
  "metadata": {
    "colab": {
      "provenance": []
    },
    "gpuClass": "standard",
    "kernelspec": {
      "display_name": "Python 3",
      "name": "python3"
    },
    "language_info": {
      "codemirror_mode": {
        "name": "ipython",
        "version": 3
      },
      "file_extension": ".py",
      "mimetype": "text/x-python",
      "name": "python",
      "nbconvert_exporter": "python",
      "pygments_lexer": "ipython3",
      "version": "3.10.11"
    },
    "orig_nbformat": 4
  },
  "nbformat": 4,
  "nbformat_minor": 0
}
