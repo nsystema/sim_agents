{
  "cells": [
    {
      "cell_type": "code",
      "execution_count": 1,
      "metadata": {},
      "outputs": [
        {
          "data": {
            "text/plain": [
              "'!conda install -c conda-forge openexr-python -y\\n!pip install waymo-open-dataset-tf-2-11-0==1.5.2  --no-cache-dir \\n!pip install --upgrade google-cloud-storage'"
            ]
          },
          "execution_count": 1,
          "metadata": {},
          "output_type": "execute_result"
        }
      ],
      "source": [
        "\"\"\"!conda install -c conda-forge openexr-python -y\n",
        "!pip install waymo-open-dataset-tf-2-11-0==1.5.2  --no-cache-dir \n",
        "!pip install --upgrade google-cloud-storage\"\"\""
      ]
    },
    {
      "cell_type": "code",
      "execution_count": 51,
      "metadata": {
        "colab": {
          "base_uri": "https://localhost:8080/",
          "height": 1000
        },
        "id": "_G1K_QmTl5vQ",
        "outputId": "198789a1-d9e4-47d3-e463-ca4fcfb7a641"
      },
      "outputs": [],
      "source": [
        "# Imports\n",
        "import os\n",
        "import tarfile\n",
        "import numpy as np\n",
        "import tensorflow as tf\n",
        "import matplotlib.pyplot as plt\n",
        "import tqdm\n",
        "import pickle\n",
        "\n",
        "from waymo_open_dataset.wdl_limited.sim_agents_metrics import metric_features\n",
        "from waymo_open_dataset.wdl_limited.sim_agents_metrics import metrics\n",
        "\n",
        "from waymo_open_dataset.protos import scenario_pb2\n",
        "from waymo_open_dataset.protos import sim_agents_metrics_pb2\n",
        "from waymo_open_dataset.protos import sim_agents_submission_pb2\n",
        "from google.protobuf import text_format\n",
        "\n",
        "from waymo_open_dataset.utils.sim_agents import submission_specs\n",
        "from waymo_open_dataset.utils.sim_agents import test_utils as sim_agents_test_utils\n",
        "from waymo_open_dataset.utils.sim_agents import visualizations\n",
        "from waymo_open_dataset.utils import trajectory_utils\n",
        "\n",
        "# Set matplotlib to jshtml so animations work with colab.\n",
        "from matplotlib import rc\n",
        "rc('animation', html='jshtml')\n",
        "\n",
        "# deactivating the warnings\n",
        "import warnings\n",
        "warnings.filterwarnings('ignore')\n",
        "\n",
        "from download import download_from_gcs\n",
        "from prepare_dataset import Prepare_train_dataset, Prepare_validation_dataset, Prepare_test_dataset\n",
        "from data_preprocess import process_waymo_data_with_scenario_proto\n"
      ]
    },
    {
      "attachments": {},
      "cell_type": "markdown",
      "metadata": {
        "id": "x_oklHSal5vR"
      },
      "source": [
        "# Downloader"
      ]
    },
    {
      "cell_type": "code",
      "execution_count": 46,
      "metadata": {
        "colab": {
          "base_uri": "https://localhost:8080/"
        },
        "id": "Z9ObwY0Rl5vS",
        "outputId": "5dadc54c-23a1-40b4-f214-34c3d1338676"
      },
      "outputs": [
        {
          "name": "stdout",
          "output_type": "stream",
          "text": [
            "validation.tfrecord-00000-of-00150 already exists in waymo_open_dataset_/validation/validation.tfrecord-00000-of-00150\n",
            "training.tfrecord-00000-of-01000 already exists in waymo_open_dataset_/training/training.tfrecord-00000-of-01000\n",
            "testing.tfrecord-00000-of-00150 already exists in waymo_open_dataset_/testing/testing.tfrecord-00000-of-00150\n"
          ]
        }
      ],
      "source": [
        "# Download samples\n",
        "download_from_gcs('uncompressed/scenario/validation/validation.tfrecord-00000-of-00150')\n",
        "download_from_gcs('uncompressed/scenario/training/training.tfrecord-00000-of-01000')\n",
        "download_from_gcs('uncompressed/scenario/testing/testing.tfrecord-00000-of-00150')"
      ]
    },
    {
      "attachments": {},
      "cell_type": "markdown",
      "metadata": {
        "id": "qMTFcOA0l5vT"
      },
      "source": [
        "# Loader"
      ]
    },
    {
      "cell_type": "code",
      "execution_count": 75,
      "metadata": {},
      "outputs": [
        {
          "name": "stdout",
          "output_type": "stream",
          "text": [
            "2023-05-27 20:45:34.980413: I tensorflow/core/platform/cpu_feature_guard.cc:193] This TensorFlow binary is optimized with oneAPI Deep Neural Network Library (oneDNN) to use the following CPU instructions in performance-critical operations:  AVX2 AVX512F FMA\n",
            "To enable them in other operations, rebuild TensorFlow with the appropriate compiler flags.\n",
            "2023-05-27 20:45:38.107974: W tensorflow/compiler/xla/stream_executor/platform/default/dso_loader.cc:64] Could not load dynamic library 'libcudart.so.11.0'; dlerror: libcudart.so.11.0: cannot open shared object file: No such file or directory\n",
            "2023-05-27 20:45:38.108018: I tensorflow/compiler/xla/stream_executor/cuda/cudart_stub.cc:29] Ignore above cudart dlerror if you do not have a GPU set up on your machine.\n",
            "2023-05-27 20:45:45.753234: W tensorflow/compiler/xla/stream_executor/platform/default/dso_loader.cc:64] Could not load dynamic library 'libnvinfer.so.7'; dlerror: libnvinfer.so.7: cannot open shared object file: No such file or directory\n",
            "2023-05-27 20:45:45.753616: W tensorflow/compiler/xla/stream_executor/platform/default/dso_loader.cc:64] Could not load dynamic library 'libnvinfer_plugin.so.7'; dlerror: libnvinfer_plugin.so.7: cannot open shared object file: No such file or directory\n",
            "2023-05-27 20:45:45.753649: W tensorflow/compiler/tf2tensorrt/utils/py_utils.cc:38] TF-TRT Warning: Cannot dlopen some TensorRT libraries. If you would like to use Nvidia GPU with TensorRT, please make sure the missing libraries mentioned above are installed properly.\n",
            "  0%|                                                     | 0/1 [00:00<?, ?it/s]2023-05-27 20:45:56.862273: W tensorflow/compiler/xla/stream_executor/platform/default/dso_loader.cc:64] Could not load dynamic library 'libcuda.so.1'; dlerror: libcuda.so.1: cannot open shared object file: No such file or directory\n",
            "2023-05-27 20:45:56.870696: W tensorflow/compiler/xla/stream_executor/cuda/cuda_driver.cc:265] failed call to cuInit: UNKNOWN ERROR (303)\n",
            "2023-05-27 20:45:56.870829: I tensorflow/compiler/xla/stream_executor/cuda/cuda_diagnostics.cc:156] kernel driver does not appear to be running on this host (codespaces-a6b224): /proc/driver/nvidia/version does not exist\n",
            "2023-05-27 20:45:56.921637: I tensorflow/core/platform/cpu_feature_guard.cc:193] This TensorFlow binary is optimized with oneAPI Deep Neural Network Library (oneDNN) to use the following CPU instructions in performance-critical operations:  AVX2 AVX512F FMA\n",
            "To enable them in other operations, rebuild TensorFlow with the appropriate compiler flags.\n",
            "100%|█████████████████████████████████████████████| 1/1 [01:15<00:00, 75.44s/it]\n",
            "----------------Waymo info train file is saved to scenarios/processed_scenarios_training_infos.pkl----------------\n",
            "  0%|                                                     | 0/1 [00:00<?, ?it/s]2023-05-27 20:47:13.191491: W tensorflow/compiler/xla/stream_executor/platform/default/dso_loader.cc:64] Could not load dynamic library 'libcuda.so.1'; dlerror: libcuda.so.1: cannot open shared object file: No such file or directory\n",
            "2023-05-27 20:47:13.226664: W tensorflow/compiler/xla/stream_executor/cuda/cuda_driver.cc:265] failed call to cuInit: UNKNOWN ERROR (303)\n",
            "2023-05-27 20:47:13.247522: I tensorflow/compiler/xla/stream_executor/cuda/cuda_diagnostics.cc:156] kernel driver does not appear to be running on this host (codespaces-a6b224): /proc/driver/nvidia/version does not exist\n",
            "2023-05-27 20:47:13.332522: I tensorflow/core/platform/cpu_feature_guard.cc:193] This TensorFlow binary is optimized with oneAPI Deep Neural Network Library (oneDNN) to use the following CPU instructions in performance-critical operations:  AVX2 AVX512F FMA\n",
            "To enable them in other operations, rebuild TensorFlow with the appropriate compiler flags.\n",
            "100%|█████████████████████████████████████████████| 1/1 [00:45<00:00, 45.20s/it]\n",
            "----------------Waymo info val file is saved to scenarios/processed_scenarios_val_infos.pkl----------------\n"
          ]
        }
      ],
      "source": [
        "!python data_preprocess.py"
      ]
    },
    {
      "cell_type": "code",
      "execution_count": 78,
      "metadata": {},
      "outputs": [
        {
          "name": "stdout",
          "output_type": "stream",
          "text": [
            "The shape of the original trajectories is:  (105, 91, 10)\n",
            "The shape of the tracks to predict until current time step is:  (4, 11, 10)\n",
            "The shape of the tracks to predict after current time step is:  (4, 80, 10)\n"
          ]
        }
      ],
      "source": [
        "# load scenarios/processed_scenarios_training/sample_1a8cc570d620bd31.pkl\n",
        "pickle_file = 'scenarios/processed_scenarios_training/sample_1a8cc570d620bd31.pkl'\n",
        "processed = pickle.load(open(pickle_file, 'rb'))\n",
        "\n",
        "print('The shape of the original trajectories is: ', processed['track_infos']['trajs'].shape)\n",
        "print('The shape of the tracks to predict until current time step is: ', processed['track_infos']['tracks_to_predict_until_current'].shape)\n",
        "print('The shape of the tracks to predict after current time step is: ', processed['track_infos']['tracks_to_predict_future'].shape)"
      ]
    }
  ],
  "metadata": {
    "colab": {
      "provenance": []
    },
    "gpuClass": "standard",
    "kernelspec": {
      "display_name": "Python 3",
      "name": "python3"
    },
    "language_info": {
      "codemirror_mode": {
        "name": "ipython",
        "version": 3
      },
      "file_extension": ".py",
      "mimetype": "text/x-python",
      "name": "python",
      "nbconvert_exporter": "python",
      "pygments_lexer": "ipython3",
      "version": "3.10.11"
    },
    "orig_nbformat": 4
  },
  "nbformat": 4,
  "nbformat_minor": 0
}
